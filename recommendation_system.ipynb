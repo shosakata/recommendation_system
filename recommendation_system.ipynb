{
 "cells": [
  {
   "cell_type": "markdown",
   "id": "6730fecf",
   "metadata": {},
   "source": [
    "# Recommendation System"
   ]
  },
  {
   "cell_type": "markdown",
   "id": "fd8b495d",
   "metadata": {},
   "source": [
    "### 1. Load the dataset"
   ]
  },
  {
   "cell_type": "code",
   "execution_count": 1,
   "id": "321d7c0e",
   "metadata": {
    "ExecuteTime": {
     "end_time": "2024-04-09T11:26:41.286748Z",
     "start_time": "2024-04-09T11:26:37.104677Z"
    }
   },
   "outputs": [],
   "source": [
    "import pandas as pd\n",
    "import numpy as np\n",
    "import matplotlib.pyplot as plt\n",
    "import re\n",
    "import seaborn as sns\n",
    "\n",
    "random_state_val = 0"
   ]
  },
  {
   "cell_type": "code",
   "execution_count": 2,
   "id": "bf0cbdf9",
   "metadata": {
    "ExecuteTime": {
     "end_time": "2024-04-09T11:26:41.417479Z",
     "start_time": "2024-04-09T11:26:41.286748Z"
    }
   },
   "outputs": [
    {
     "name": "stdout",
     "output_type": "stream",
     "text": [
      "(40000, 7)\n",
      "(40000, 7)\n"
     ]
    }
   ],
   "source": [
    "df_train = pd.read_csv(\"basket_data_by_date_train.csv\")\n",
    "df_test = pd.read_csv(\"basket_data_by_date_test.csv\")\n",
    "\n",
    "print(df_train.shape)\n",
    "print(df_test.shape)\n"
   ]
  },
  {
   "cell_type": "code",
   "execution_count": 3,
   "id": "cb0e2a07",
   "metadata": {
    "ExecuteTime": {
     "end_time": "2024-04-09T11:26:41.482737Z",
     "start_time": "2024-04-09T11:26:41.419579Z"
    }
   },
   "outputs": [],
   "source": [
    "df_train['date'] = pd.to_datetime(df_train['Date'], format='%d/%m/%Y %H:%M')\n",
    "df_train['year'] = df_train.date.dt.year\n",
    "df_train['month'] = df_train.date.dt.month\n",
    "df_train[\"date_only\"] = df_train.date.dt.date\n",
    "df_train[\"week\"] = (df_train[\"date_only\"]-df_train[\"date_only\"].min()).apply(lambda x:x.days//7)"
   ]
  },
  {
   "cell_type": "code",
   "execution_count": 4,
   "id": "e6a88a13",
   "metadata": {
    "ExecuteTime": {
     "end_time": "2024-04-09T11:26:41.500734Z",
     "start_time": "2024-04-09T11:26:41.482737Z"
    }
   },
   "outputs": [],
   "source": [
    "df_test['date'] = pd.to_datetime(df_test['Date'], format='%d/%m/%Y %H:%M')\n",
    "df_test['year'] = df_test.date.dt.year\n",
    "df_test['month'] = df_test.date.dt.month\n"
   ]
  },
  {
   "cell_type": "markdown",
   "id": "f9fc798a",
   "metadata": {},
   "source": [
    "### 2.  Analyse and visualise the data"
   ]
  },
  {
   "cell_type": "markdown",
   "id": "530ba38c",
   "metadata": {},
   "source": [
    "### 2.1 Check missing values and data type"
   ]
  },
  {
   "cell_type": "code",
   "execution_count": 5,
   "id": "0f8bec70",
   "metadata": {
    "ExecuteTime": {
     "end_time": "2024-04-09T11:26:41.523978Z",
     "start_time": "2024-04-09T11:26:41.500734Z"
    }
   },
   "outputs": [
    {
     "name": "stdout",
     "output_type": "stream",
     "text": [
      "<class 'pandas.core.frame.DataFrame'>\n",
      "RangeIndex: 40000 entries, 0 to 39999\n",
      "Data columns (total 12 columns):\n",
      " #   Column      Non-Null Count  Dtype         \n",
      "---  ------      --------------  -----         \n",
      " 0   BillNo      40000 non-null  int64         \n",
      " 1   Itemname    40000 non-null  object        \n",
      " 2   Quantity    40000 non-null  int64         \n",
      " 3   Date        40000 non-null  object        \n",
      " 4   Price       40000 non-null  float64       \n",
      " 5   CustomerID  40000 non-null  int64         \n",
      " 6   cost        40000 non-null  float64       \n",
      " 7   date        40000 non-null  datetime64[ns]\n",
      " 8   year        40000 non-null  int32         \n",
      " 9   month       40000 non-null  int32         \n",
      " 10  date_only   40000 non-null  object        \n",
      " 11  week        40000 non-null  int64         \n",
      "dtypes: datetime64[ns](1), float64(2), int32(2), int64(4), object(3)\n",
      "memory usage: 3.4+ MB\n"
     ]
    }
   ],
   "source": [
    "df_train.info()"
   ]
  },
  {
   "cell_type": "code",
   "execution_count": 6,
   "id": "344821ab",
   "metadata": {
    "ExecuteTime": {
     "end_time": "2024-04-09T11:26:41.538092Z",
     "start_time": "2024-04-09T11:26:41.525883Z"
    }
   },
   "outputs": [
    {
     "name": "stdout",
     "output_type": "stream",
     "text": [
      "<class 'pandas.core.frame.DataFrame'>\n",
      "RangeIndex: 40000 entries, 0 to 39999\n",
      "Data columns (total 10 columns):\n",
      " #   Column      Non-Null Count  Dtype         \n",
      "---  ------      --------------  -----         \n",
      " 0   BillNo      10000 non-null  float64       \n",
      " 1   Itemname    10000 non-null  object        \n",
      " 2   Quantity    10000 non-null  float64       \n",
      " 3   Date        10000 non-null  object        \n",
      " 4   Price       10000 non-null  float64       \n",
      " 5   CustomerID  10000 non-null  float64       \n",
      " 6   cost        10000 non-null  float64       \n",
      " 7   date        10000 non-null  datetime64[ns]\n",
      " 8   year        10000 non-null  float64       \n",
      " 9   month       10000 non-null  float64       \n",
      "dtypes: datetime64[ns](1), float64(7), object(2)\n",
      "memory usage: 3.1+ MB\n"
     ]
    }
   ],
   "source": [
    "df_test.info()"
   ]
  },
  {
   "cell_type": "markdown",
   "id": "278ed5c7",
   "metadata": {},
   "source": [
    "- Some data type is different between training dataset and test dataset. BillNo are used to create model. Therefore, the type of BillNo is converted into int. No modifications are necessary since other features with different data types will not be used.\n",
    "- Exclude missing rows contained in test dataset."
   ]
  },
  {
   "cell_type": "markdown",
   "id": "f5d67b30",
   "metadata": {},
   "source": [
    "### 2.2 Check year and month in dataset"
   ]
  },
  {
   "cell_type": "code",
   "execution_count": 7,
   "id": "0c9ccf55",
   "metadata": {
    "ExecuteTime": {
     "end_time": "2024-04-09T11:26:41.787490Z",
     "start_time": "2024-04-09T11:26:41.755133Z"
    }
   },
   "outputs": [
    {
     "data": {
      "text/html": [
       "<div>\n",
       "<style scoped>\n",
       "    .dataframe tbody tr th:only-of-type {\n",
       "        vertical-align: middle;\n",
       "    }\n",
       "\n",
       "    .dataframe tbody tr th {\n",
       "        vertical-align: top;\n",
       "    }\n",
       "\n",
       "    .dataframe thead th {\n",
       "        text-align: right;\n",
       "    }\n",
       "</style>\n",
       "<table border=\"1\" class=\"dataframe\">\n",
       "  <thead>\n",
       "    <tr style=\"text-align: right;\">\n",
       "      <th></th>\n",
       "      <th>year</th>\n",
       "      <th>month</th>\n",
       "      <th>count</th>\n",
       "    </tr>\n",
       "  </thead>\n",
       "  <tbody>\n",
       "    <tr>\n",
       "      <th>0</th>\n",
       "      <td>2010</td>\n",
       "      <td>12</td>\n",
       "      <td>18159</td>\n",
       "    </tr>\n",
       "    <tr>\n",
       "      <th>1</th>\n",
       "      <td>2011</td>\n",
       "      <td>1</td>\n",
       "      <td>14087</td>\n",
       "    </tr>\n",
       "    <tr>\n",
       "      <th>2</th>\n",
       "      <td>2011</td>\n",
       "      <td>2</td>\n",
       "      <td>7754</td>\n",
       "    </tr>\n",
       "  </tbody>\n",
       "</table>\n",
       "</div>"
      ],
      "text/plain": [
       "   year  month  count\n",
       "0  2010     12  18159\n",
       "1  2011      1  14087\n",
       "2  2011      2   7754"
      ]
     },
     "execution_count": 7,
     "metadata": {},
     "output_type": "execute_result"
    }
   ],
   "source": [
    "df_train[[\"year\",\"month\"]].value_counts().reset_index()"
   ]
  },
  {
   "cell_type": "code",
   "execution_count": 8,
   "id": "4ca306b3",
   "metadata": {
    "ExecuteTime": {
     "end_time": "2024-04-09T11:26:42.651927Z",
     "start_time": "2024-04-09T11:26:42.632596Z"
    }
   },
   "outputs": [
    {
     "data": {
      "text/html": [
       "<div>\n",
       "<style scoped>\n",
       "    .dataframe tbody tr th:only-of-type {\n",
       "        vertical-align: middle;\n",
       "    }\n",
       "\n",
       "    .dataframe tbody tr th {\n",
       "        vertical-align: top;\n",
       "    }\n",
       "\n",
       "    .dataframe thead th {\n",
       "        text-align: right;\n",
       "    }\n",
       "</style>\n",
       "<table border=\"1\" class=\"dataframe\">\n",
       "  <thead>\n",
       "    <tr style=\"text-align: right;\">\n",
       "      <th></th>\n",
       "      <th>year</th>\n",
       "      <th>month</th>\n",
       "      <th>count</th>\n",
       "    </tr>\n",
       "  </thead>\n",
       "  <tbody>\n",
       "    <tr>\n",
       "      <th>0</th>\n",
       "      <td>2011.0</td>\n",
       "      <td>2.0</td>\n",
       "      <td>5235</td>\n",
       "    </tr>\n",
       "    <tr>\n",
       "      <th>1</th>\n",
       "      <td>2011.0</td>\n",
       "      <td>3.0</td>\n",
       "      <td>4765</td>\n",
       "    </tr>\n",
       "  </tbody>\n",
       "</table>\n",
       "</div>"
      ],
      "text/plain": [
       "     year  month  count\n",
       "0  2011.0    2.0   5235\n",
       "1  2011.0    3.0   4765"
      ]
     },
     "execution_count": 8,
     "metadata": {},
     "output_type": "execute_result"
    }
   ],
   "source": [
    "df_test[[\"year\",\"month\"]].value_counts().reset_index()"
   ]
  },
  {
   "cell_type": "markdown",
   "id": "77de8e9b",
   "metadata": {},
   "source": [
    "When selecting candidate algorithms, December 2010 and January 2011 will be used as training data, and February 2011 will be used as validation data. During testing of the final model, all training data will be utilised. For the final model, all months from December to February is used as the training data. The test dataset consists of February and March 2011 data, which will be directly utilised as the test data for the final model."
   ]
  },
  {
   "cell_type": "markdown",
   "id": "ed57118d",
   "metadata": {},
   "source": [
    "### 2.3 Analyse Sales Week and Sales Frequency"
   ]
  },
  {
   "cell_type": "code",
   "execution_count": 9,
   "id": "67df6f28",
   "metadata": {
    "ExecuteTime": {
     "end_time": "2024-04-09T11:26:45.194472Z",
     "start_time": "2024-04-09T11:26:43.746648Z"
    }
   },
   "outputs": [
    {
     "data": {
      "image/png": "[encoded data removed]",
      "text/plain": [
       "<Figure size 640x480 with 1 Axes>"
      ]
     },
     "metadata": {},
     "output_type": "display_data"
    }
   ],
   "source": [
    "df_num_span_w = df_train.copy().groupby([\"Itemname\",\"week\"])[\"date_only\"].agg([\"count\",\"min\"]).reset_index()\n",
    "df_num_span_w.rename(columns={\"min\":\"date\"},inplace=True)\n",
    "df_num_span_w.reset_index(inplace=True)\n",
    "\n",
    "df_num_span = df_num_span_w.copy().groupby([\"Itemname\"]).agg({\"count\": \"mean\", \"date\": \"count\"})\n",
    "df_num_span.reset_index(inplace=True)\n",
    "df_num_span.rename(columns={\"count\":\"freq\",\"date\":\"weeks\"},inplace=True)\n",
    "\n",
    "sns.boxplot(x=\"weeks\", y=\"freq\", data=df_num_span)\n",
    "# plt.title(\"Number of Sales per Week\")\n",
    "plt.title(\"Relationship between Mean Sales Frequency per Week and Sales Week\")\n",
    "plt.xlabel(\"Sales Week\")\n",
    "plt.ylabel(\"Mean Sales Frequency per Week\")\n",
    "plt.show()\n"
   ]
  },
  {
   "cell_type": "markdown",
   "id": "d93457bb",
   "metadata": {},
   "source": [
    "The above graph shows the sales frequency and sales period (number of weeks) for each item using box plots. Items can be classified into three main categories based on the sales period and sales count:\n",
    "\n",
    "- Short sales period with high sales count: Seasonal items\n",
    "- Short sales period with low sales count: Low-selling items\n",
    "- Long sales period: Long-selling items\n",
    "\n",
    "Specifically, items  in each category are checked bellow "
   ]
  },
  {
   "cell_type": "code",
   "execution_count": 10,
   "id": "0852fbd2",
   "metadata": {
    "ExecuteTime": {
     "end_time": "2024-04-09T11:26:45.210802Z",
     "start_time": "2024-04-09T11:26:45.196745Z"
    }
   },
   "outputs": [
    {
     "data": {
      "text/html": [
       "<div>\n",
       "<style scoped>\n",
       "    .dataframe tbody tr th:only-of-type {\n",
       "        vertical-align: middle;\n",
       "    }\n",
       "\n",
       "    .dataframe tbody tr th {\n",
       "        vertical-align: top;\n",
       "    }\n",
       "\n",
       "    .dataframe thead th {\n",
       "        text-align: right;\n",
       "    }\n",
       "</style>\n",
       "<table border=\"1\" class=\"dataframe\">\n",
       "  <thead>\n",
       "    <tr style=\"text-align: right;\">\n",
       "      <th></th>\n",
       "      <th>Itemname</th>\n",
       "      <th>freq</th>\n",
       "      <th>weeks</th>\n",
       "    </tr>\n",
       "  </thead>\n",
       "  <tbody>\n",
       "    <tr>\n",
       "      <th>1048</th>\n",
       "      <td>HAND WARMER BIRD DESIGN</td>\n",
       "      <td>25.0</td>\n",
       "      <td>2</td>\n",
       "    </tr>\n",
       "    <tr>\n",
       "      <th>1049</th>\n",
       "      <td>HAND WARMER OWL DESIGN</td>\n",
       "      <td>21.0</td>\n",
       "      <td>2</td>\n",
       "    </tr>\n",
       "    <tr>\n",
       "      <th>1051</th>\n",
       "      <td>HAND WARMER RED RETROSPOT</td>\n",
       "      <td>32.0</td>\n",
       "      <td>1</td>\n",
       "    </tr>\n",
       "    <tr>\n",
       "      <th>1052</th>\n",
       "      <td>HAND WARMER SCOTTY DOG DESIGN</td>\n",
       "      <td>26.0</td>\n",
       "      <td>2</td>\n",
       "    </tr>\n",
       "    <tr>\n",
       "      <th>1053</th>\n",
       "      <td>HAND WARMER UNION JACK</td>\n",
       "      <td>31.0</td>\n",
       "      <td>2</td>\n",
       "    </tr>\n",
       "  </tbody>\n",
       "</table>\n",
       "</div>"
      ],
      "text/plain": [
       "                           Itemname  freq  weeks\n",
       "1048        HAND WARMER BIRD DESIGN  25.0      2\n",
       "1049         HAND WARMER OWL DESIGN  21.0      2\n",
       "1051      HAND WARMER RED RETROSPOT  32.0      1\n",
       "1052  HAND WARMER SCOTTY DOG DESIGN  26.0      2\n",
       "1053         HAND WARMER UNION JACK  31.0      2"
      ]
     },
     "execution_count": 10,
     "metadata": {},
     "output_type": "execute_result"
    }
   ],
   "source": [
    "#　Seasonal items\n",
    "df_num_span[(df_num_span[\"weeks\"]<4) & (df_num_span[\"freq\"]>20)].head()"
   ]
  },
  {
   "cell_type": "code",
   "execution_count": 11,
   "id": "1046b585",
   "metadata": {
    "ExecuteTime": {
     "end_time": "2024-04-09T11:26:46.918566Z",
     "start_time": "2024-04-09T11:26:46.908707Z"
    }
   },
   "outputs": [
    {
     "data": {
      "text/html": [
       "<div>\n",
       "<style scoped>\n",
       "    .dataframe tbody tr th:only-of-type {\n",
       "        vertical-align: middle;\n",
       "    }\n",
       "\n",
       "    .dataframe tbody tr th {\n",
       "        vertical-align: top;\n",
       "    }\n",
       "\n",
       "    .dataframe thead th {\n",
       "        text-align: right;\n",
       "    }\n",
       "</style>\n",
       "<table border=\"1\" class=\"dataframe\">\n",
       "  <thead>\n",
       "    <tr style=\"text-align: right;\">\n",
       "      <th></th>\n",
       "      <th>Itemname</th>\n",
       "      <th>freq</th>\n",
       "      <th>weeks</th>\n",
       "    </tr>\n",
       "  </thead>\n",
       "  <tbody>\n",
       "    <tr>\n",
       "      <th>0</th>\n",
       "      <td>10 COLOUR SPACEBOY PEN</td>\n",
       "      <td>1.333333</td>\n",
       "      <td>3</td>\n",
       "    </tr>\n",
       "    <tr>\n",
       "      <th>13</th>\n",
       "      <td>12 PINK HEN+CHICKS IN BASKET</td>\n",
       "      <td>1.000000</td>\n",
       "      <td>1</td>\n",
       "    </tr>\n",
       "    <tr>\n",
       "      <th>16</th>\n",
       "      <td>15 PINK FLUFFY CHICKS IN BOX</td>\n",
       "      <td>2.000000</td>\n",
       "      <td>1</td>\n",
       "    </tr>\n",
       "    <tr>\n",
       "      <th>18</th>\n",
       "      <td>2 PICTURE BOOK EGGS EASTER BUNNY</td>\n",
       "      <td>1.333333</td>\n",
       "      <td>3</td>\n",
       "    </tr>\n",
       "    <tr>\n",
       "      <th>19</th>\n",
       "      <td>2 PICTURE BOOK EGGS EASTER CHICKS</td>\n",
       "      <td>1.000000</td>\n",
       "      <td>2</td>\n",
       "    </tr>\n",
       "  </tbody>\n",
       "</table>\n",
       "</div>"
      ],
      "text/plain": [
       "                             Itemname      freq  weeks\n",
       "0              10 COLOUR SPACEBOY PEN  1.333333      3\n",
       "13       12 PINK HEN+CHICKS IN BASKET  1.000000      1\n",
       "16       15 PINK FLUFFY CHICKS IN BOX  2.000000      1\n",
       "18   2 PICTURE BOOK EGGS EASTER BUNNY  1.333333      3\n",
       "19  2 PICTURE BOOK EGGS EASTER CHICKS  1.000000      2"
      ]
     },
     "execution_count": 11,
     "metadata": {},
     "output_type": "execute_result"
    }
   ],
   "source": [
    "#　Low-selling items\n",
    "df_num_span[(df_num_span[\"weeks\"]<4) & (df_num_span[\"freq\"]<5)].head()"
   ]
  },
  {
   "cell_type": "code",
   "execution_count": 12,
   "id": "7be6958b",
   "metadata": {
    "ExecuteTime": {
     "end_time": "2024-04-09T11:26:47.605460Z",
     "start_time": "2024-04-09T11:26:47.593500Z"
    }
   },
   "outputs": [
    {
     "data": {
      "text/html": [
       "<div>\n",
       "<style scoped>\n",
       "    .dataframe tbody tr th:only-of-type {\n",
       "        vertical-align: middle;\n",
       "    }\n",
       "\n",
       "    .dataframe tbody tr th {\n",
       "        vertical-align: top;\n",
       "    }\n",
       "\n",
       "    .dataframe thead th {\n",
       "        text-align: right;\n",
       "    }\n",
       "</style>\n",
       "<table border=\"1\" class=\"dataframe\">\n",
       "  <thead>\n",
       "    <tr style=\"text-align: right;\">\n",
       "      <th></th>\n",
       "      <th>Itemname</th>\n",
       "      <th>freq</th>\n",
       "      <th>weeks</th>\n",
       "    </tr>\n",
       "  </thead>\n",
       "  <tbody>\n",
       "    <tr>\n",
       "      <th>27</th>\n",
       "      <td>3 HOOK PHOTO SHELF ANTIQUE WHITE</td>\n",
       "      <td>4.272727</td>\n",
       "      <td>11</td>\n",
       "    </tr>\n",
       "    <tr>\n",
       "      <th>80</th>\n",
       "      <td>60 TEATIME FAIRY CAKE CASES</td>\n",
       "      <td>4.454545</td>\n",
       "      <td>11</td>\n",
       "    </tr>\n",
       "    <tr>\n",
       "      <th>81</th>\n",
       "      <td>72 SWEETHEART FAIRY CAKE CASES</td>\n",
       "      <td>6.636364</td>\n",
       "      <td>11</td>\n",
       "    </tr>\n",
       "    <tr>\n",
       "      <th>95</th>\n",
       "      <td>AIRLINE BAG VINTAGE JET SET RED</td>\n",
       "      <td>2.636364</td>\n",
       "      <td>11</td>\n",
       "    </tr>\n",
       "    <tr>\n",
       "      <th>97</th>\n",
       "      <td>AIRLINE BAG VINTAGE TOKYO 78</td>\n",
       "      <td>4.272727</td>\n",
       "      <td>11</td>\n",
       "    </tr>\n",
       "  </tbody>\n",
       "</table>\n",
       "</div>"
      ],
      "text/plain": [
       "                            Itemname      freq  weeks\n",
       "27  3 HOOK PHOTO SHELF ANTIQUE WHITE  4.272727     11\n",
       "80       60 TEATIME FAIRY CAKE CASES  4.454545     11\n",
       "81    72 SWEETHEART FAIRY CAKE CASES  6.636364     11\n",
       "95   AIRLINE BAG VINTAGE JET SET RED  2.636364     11\n",
       "97      AIRLINE BAG VINTAGE TOKYO 78  4.272727     11"
      ]
     },
     "execution_count": 12,
     "metadata": {},
     "output_type": "execute_result"
    }
   ],
   "source": [
    "# Long-selling items\n",
    "df_num_span[df_num_span[\"weeks\"]>10].head()"
   ]
  },
  {
   "cell_type": "markdown",
   "id": "8b781029",
   "metadata": {},
   "source": [
    "When classified into three categories based on sales period and sales frequency, it is evident that items with short sales periods and high sales frequency correspond to seasonal items. Low-selling items and seasonal items are excluded from the prediction targets as it is unclear whether they are being sold at the time of model utilization. Therefore, only long-selling items are considered as prediction targets. However, it is essential to check whether low-selling items and seasonal items are included in the baskets. As a definition for long-selling items, items with sales periods exceeding 10 weeks are considered long-selling items."
   ]
  },
  {
   "cell_type": "markdown",
   "id": "c8ebf9b3",
   "metadata": {
    "ExecuteTime": {
     "end_time": "2024-04-03T00:43:06.646292Z",
     "start_time": "2024-04-03T00:43:06.642959Z"
    }
   },
   "source": [
    "### 2.4 Check Itemname"
   ]
  },
  {
   "cell_type": "code",
   "execution_count": 13,
   "id": "af7d58b8",
   "metadata": {
    "ExecuteTime": {
     "end_time": "2024-04-09T11:27:28.261174Z",
     "start_time": "2024-04-09T11:27:28.030385Z"
    }
   },
   "outputs": [
    {
     "name": "stdout",
     "output_type": "stream",
     "text": [
      "2520\n",
      "2523\n",
      "['BAKING MOULD TOFFEE CUP  CHOCOLATE', 'BAKING MOULD TOFFEE CUP CHOCOLATE', 'CHERRY BLOSSOM  DECORATIVE FLASK', 'CHERRY BLOSSOM DECORATIVE FLASK', 'COLUMBIAN  CUBE CANDLE', 'COLUMBIAN CUBE CANDLE']\n"
     ]
    }
   ],
   "source": [
    "print(len(df_train[\"Itemname\"].apply(lambda x: re.sub(\" +\",\" \",x)).unique()))\n",
    "print(len(df_train[\"Itemname\"].unique()))\n",
    "df_itemname_check = df_train.copy()\n",
    "df_itemname_check[\"Itemname_rep\"] = df_itemname_check[\"Itemname\"].apply(lambda x: re.sub(\" +\",\" \",x))\n",
    "df_itemname_grp1 = df_itemname_check[[\"Itemname\",\"Itemname_rep\"]].value_counts().reset_index()\n",
    "df_itemname_grp2 = df_itemname_check[[\"Itemname_rep\"]].value_counts().reset_index()\n",
    "df_itemname_merge = pd.merge(df_itemname_grp1, df_itemname_grp2, on=[\"Itemname_rep\",\"count\"], how='outer', indicator=True)\n",
    "print(sorted(list(df_itemname_merge[df_itemname_merge[\"_merge\"]!=\"both\"][\"Itemname\"].dropna().unique())))"
   ]
  },
  {
   "cell_type": "markdown",
   "id": "f56ec8ad",
   "metadata": {},
   "source": [
    "Different Itemnames exist due to spacing differences. In cases where consecutive spaces exist, they are replaced with single spaces."
   ]
  },
  {
   "cell_type": "markdown",
   "id": "f27b7cdb",
   "metadata": {},
   "source": [
    "### 2.5 Summary"
   ]
  },
  {
   "cell_type": "markdown",
   "id": "be14e7bf",
   "metadata": {
    "ExecuteTime": {
     "end_time": "2024-04-03T01:14:08.917741Z",
     "start_time": "2024-04-03T01:14:08.901837Z"
    }
   },
   "source": [
    "- Remove missing rows from df_test (according to 2.1).\n",
    "- Convert BillNo in df_test to integer type (according to 2.1).\n",
    "- When determining the algorithm, use December and January from df_train as training data and February as the test data. For the final model, use all months from December to February as the training data (according to 2.2).\n",
    "- Consider items that have been sold for more than 10 weeks as prediction targets (according to 2.3).\n",
    "- Replace consecutive spaces in Itemname with single spaces (according to 2.4)."
   ]
  },
  {
   "cell_type": "markdown",
   "id": "48a79bbc",
   "metadata": {
    "ExecuteTime": {
     "end_time": "2024-04-03T00:27:40.449780Z",
     "start_time": "2024-04-03T00:27:40.434334Z"
    }
   },
   "source": [
    "### 3. Pre-process the data"
   ]
  },
  {
   "cell_type": "markdown",
   "id": "8256c18e",
   "metadata": {},
   "source": [
    "### 3.1 Clean data"
   ]
  },
  {
   "cell_type": "code",
   "execution_count": 14,
   "id": "c3f79398",
   "metadata": {
    "ExecuteTime": {
     "end_time": "2024-04-09T11:27:31.599303Z",
     "start_time": "2024-04-09T11:27:31.489916Z"
    }
   },
   "outputs": [],
   "source": [
    "df_train_prep = df_train.copy()\n",
    "\n",
    "# Replace consecutive spaces in Itemname with a single space\n",
    "df_train_prep[\"Itemname\"] = df_train_prep.copy()[\"Itemname\"].apply(lambda x: re.sub(\" +\",\" \",x))\n",
    "\n",
    "# Narrow down to the columns to be used\n",
    "df_train_prep = df_train_prep.groupby([\"BillNo\",\"Itemname\"])[\"month\"].max().reset_index()"
   ]
  },
  {
   "cell_type": "code",
   "execution_count": 15,
   "id": "a6904b43",
   "metadata": {
    "ExecuteTime": {
     "end_time": "2024-04-09T11:27:32.080095Z",
     "start_time": "2024-04-09T11:27:32.033770Z"
    }
   },
   "outputs": [],
   "source": [
    "# Exclude missing rows\n",
    "df_test_prep = df_test.copy().dropna()\n",
    "\n",
    "# Replace consecutive spaces in Itemname with a single space\n",
    "df_test_prep[\"Itemname\"] = df_test_prep.copy()[\"Itemname\"].apply(lambda x: re.sub(\" +\",\" \",x))\n",
    "\n",
    "# Narrow down to the columns to be used\n",
    "df_test_prep = df_test_prep[[\"BillNo\",\"Itemname\"]].drop_duplicates()\n",
    "\n",
    "# Change data type of BillNo\n",
    "df_test_prep[\"BillNo\"] = df_test_prep[\"BillNo\"].astype(int)"
   ]
  },
  {
   "cell_type": "markdown",
   "id": "3d30d0a2",
   "metadata": {},
   "source": [
    "### 3.2 Set up the prediction target"
   ]
  },
  {
   "cell_type": "code",
   "execution_count": 16,
   "id": "c8fc53da",
   "metadata": {
    "ExecuteTime": {
     "end_time": "2024-04-09T11:27:34.657798Z",
     "start_time": "2024-04-09T11:27:34.652062Z"
    }
   },
   "outputs": [],
   "source": [
    "# Predict items that have been on sale for more than 10 weeks.\n",
    "border_weeks = 10\n",
    "long_selling_items = df_num_span[df_num_span[\"weeks\"]>border_weeks].reset_index()[\"Itemname\"].unique()"
   ]
  },
  {
   "cell_type": "code",
   "execution_count": 17,
   "id": "cce19c0f",
   "metadata": {
    "ExecuteTime": {
     "end_time": "2024-04-09T11:27:35.239520Z",
     "start_time": "2024-04-09T11:27:35.222545Z"
    }
   },
   "outputs": [
    {
     "data": {
      "text/plain": [
       "214"
      ]
     },
     "execution_count": 17,
     "metadata": {},
     "output_type": "execute_result"
    }
   ],
   "source": [
    "len(long_selling_items)"
   ]
  },
  {
   "cell_type": "markdown",
   "id": "10817ca6",
   "metadata": {
    "ExecuteTime": {
     "end_time": "2024-04-03T01:32:21.841495Z",
     "start_time": "2024-04-03T01:32:21.838219Z"
    }
   },
   "source": [
    "### 3.3 Create a dataset for candidate model selection"
   ]
  },
  {
   "cell_type": "markdown",
   "id": "29c9e34f",
   "metadata": {},
   "source": [
    "|                 | Dataset for Training | Dataset for Evaluation |\n",
    "|-----------------|----------------------|------------------------|\n",
    "| Candidate Models| Dec 2010 to Jan 2011 | Feb 2011               |\n",
    "| Final Model     | Dec 2010 to Feb 2011 | Feb 2011 to Mar 2011  |"
   ]
  },
  {
   "cell_type": "code",
   "execution_count": 18,
   "id": "ba324bab",
   "metadata": {
    "ExecuteTime": {
     "end_time": "2024-04-09T11:27:36.292848Z",
     "start_time": "2024-04-09T11:27:36.281984Z"
    }
   },
   "outputs": [
    {
     "name": "stdout",
     "output_type": "stream",
     "text": [
      "(31019, 3)\n",
      "(7546, 3)\n",
      "(38565, 3)\n",
      "(9686, 2)\n"
     ]
    }
   ],
   "source": [
    "# The dataset for experiments\n",
    "df_ex_train = df_train_prep.copy()[df_train_prep[\"month\"]!=2]\n",
    "df_ex_valid = df_train_prep.copy()[df_train_prep[\"month\"]==2]\n",
    "print(df_ex_train.shape)\n",
    "print(df_ex_valid.shape)\n",
    "\n",
    "# The dataset for final model\n",
    "df_fi_train = df_train_prep.copy()\n",
    "df_fi_test = df_test_prep.copy()\n",
    "\n",
    "print(df_fi_train.shape)\n",
    "print(df_fi_test.shape)"
   ]
  },
  {
   "cell_type": "code",
   "execution_count": 19,
   "id": "5b031f72",
   "metadata": {
    "ExecuteTime": {
     "end_time": "2024-04-09T11:27:36.973167Z",
     "start_time": "2024-04-09T11:27:36.955951Z"
    }
   },
   "outputs": [],
   "source": [
    "# Exclude Itemnames that exist only in the validation and test datasets.\n",
    "df_ex_valid = df_ex_valid.copy()[df_ex_valid[\"Itemname\"].isin(df_ex_train[\"Itemname\"].unique())]\n",
    "df_fi_test = df_fi_test.copy()[df_fi_test[\"Itemname\"].isin(df_fi_train[\"Itemname\"].unique())]"
   ]
  },
  {
   "cell_type": "code",
   "execution_count": 20,
   "id": "7653c5dc",
   "metadata": {
    "ExecuteTime": {
     "end_time": "2024-04-09T11:27:38.973112Z",
     "start_time": "2024-04-09T11:27:38.955754Z"
    }
   },
   "outputs": [],
   "source": [
    "# Use only baskets (BillNo) containing more than one item in either the validation and test data\n",
    "# since one long-selling item is used for ground truth.\n",
    "\n",
    "# Validation dataset\n",
    "df_valid_item_cnt = df_ex_valid[\"BillNo\"].value_counts().reset_index()\n",
    "\n",
    "df_valid_multi_item = df_valid_item_cnt[df_valid_item_cnt[\"count\"]>1]\n",
    "df_ex_valid = df_ex_valid[df_ex_valid[\"BillNo\"].isin(df_valid_multi_item[\"BillNo\"].to_list())]\n",
    "df_ex_valid.shape\n",
    "\n",
    "billno_long_sellings = df_ex_valid[df_ex_valid[\"Itemname\"].isin(long_selling_items)][\"BillNo\"].unique()\n",
    "df_ex_valid = df_ex_valid[df_ex_valid[\"BillNo\"].isin(billno_long_sellings)]\n",
    "\n",
    "# Test dataset\n",
    "df_test_item_cnt = df_fi_test[\"BillNo\"].value_counts().reset_index()\n",
    "\n",
    "df_test_multi_item = df_test_item_cnt[df_test_item_cnt[\"count\"]>1]\n",
    "df_fi_test = df_fi_test[df_fi_test[\"BillNo\"].isin(df_test_multi_item[\"BillNo\"].to_list())]\n",
    "\n",
    "billno_long_sellings = df_fi_test[df_fi_test[\"Itemname\"].isin(long_selling_items)][\"BillNo\"].unique()\n",
    "df_fi_test = df_fi_test[df_fi_test[\"BillNo\"].isin(billno_long_sellings)]"
   ]
  },
  {
   "cell_type": "code",
   "execution_count": 21,
   "id": "fd475b6a",
   "metadata": {
    "ExecuteTime": {
     "end_time": "2024-04-09T11:27:40.597181Z",
     "start_time": "2024-04-09T11:27:39.322892Z"
    }
   },
   "outputs": [
    {
     "name": "stdout",
     "output_type": "stream",
     "text": [
      "(7234, 3)\n",
      "(6779, 3)\n",
      "(455, 3)\n",
      "(9133, 2)\n",
      "(8635, 2)\n",
      "(498, 2)\n"
     ]
    }
   ],
   "source": [
    "# One long-selling item in each basket (BillNo) of validation and test dataset is treated as ground truth.\n",
    "\n",
    "# Validation dataset\n",
    "print(df_ex_valid.shape)\n",
    "df_valid_answer = pd.DataFrame()\n",
    "for valid_bill in df_ex_valid[\"BillNo\"].unique():\n",
    "    df_tmp = df_ex_valid[(df_ex_valid[\"BillNo\"]==valid_bill) & (df_ex_valid[\"Itemname\"].isin(long_selling_items))].sample(random_state=random_state_val)\n",
    "    df_valid_answer = pd.concat([df_valid_answer,df_tmp])\n",
    "    \n",
    "df_ex_valid = df_ex_valid.drop(index=df_valid_answer.index)\n",
    "print(df_ex_valid.shape)\n",
    "print(df_valid_answer.shape)\n",
    "\n",
    "# Test dataset\n",
    "print(df_fi_test.shape)\n",
    "df_test_answer = pd.DataFrame()\n",
    "for test_bill in df_fi_test[\"BillNo\"].unique():\n",
    "    df_tmp = df_fi_test[(df_fi_test[\"BillNo\"]==test_bill) & (df_fi_test[\"Itemname\"].isin(long_selling_items))].sample(random_state=random_state_val)\n",
    "    df_test_answer = pd.concat([df_test_answer,df_tmp])\n",
    "    \n",
    "df_fi_test = df_fi_test.drop(index=df_test_answer.index)\n",
    "print(df_fi_test.shape)\n",
    "print(df_test_answer.shape)\n"
   ]
  },
  {
   "cell_type": "markdown",
   "id": "432db1af",
   "metadata": {},
   "source": [
    "In collaborative filtering, the rating in this project can be based on Quantity or whether a purchase was made (binary values). For this project, binary values is chosen since there are two reasons.\n",
    "\n",
    "- Reason 1:   \n",
    "If \"Quantity\" is chosen, the recommendation score become expected value of the quantity to purchase, which is derived from the rating and similarity score. On the other hand, if binary values is chosen, the recommendation score represents the expected probability of making a purchase. Since it is crucial whether the user will purchase the recommendation, a recommendation score indicating the probability of purchase is desirable.\n",
    "\n",
    "- Reason 2:   \n",
    "When calculating the similarity score (cosine similarity), \"Quantity\" results in items with larger quantities having a stronger influence on the similarity score than items with small amount. For instance, if the similarity score is computed using a multiple cheap items (e.g., 10 apples) and one expensive item (e.g., 1 desk), \"Quantity\" would lead to the inexpensive items having a greater impact on the similarity score compared to the expensive item. To prevent the influence such as this case, binary values is selected for rating.\n"
   ]
  },
  {
   "cell_type": "code",
   "execution_count": 22,
   "id": "e4738efe",
   "metadata": {
    "ExecuteTime": {
     "end_time": "2024-04-09T11:27:44.382860Z",
     "start_time": "2024-04-09T11:27:40.599478Z"
    }
   },
   "outputs": [
    {
     "name": "stdout",
     "output_type": "stream",
     "text": [
      "(1998, 2416)\n",
      "(455, 2416)\n",
      "(2524, 2521)\n",
      "(498, 2521)\n"
     ]
    }
   ],
   "source": [
    "# Create a matrix with BillNo on the vertical axis and Itemname on the horizontal axis bellow\n",
    "df_ex_train_basket = pd.crosstab(df_ex_train[\"BillNo\"],df_ex_train[\"Itemname\"]).reset_index()\n",
    "\n",
    "df_ex_basket_valid = pd.DataFrame(columns=df_ex_train_basket.columns)\n",
    "df_ex_basket_valid_val = pd.crosstab(df_ex_valid[\"BillNo\"],df_ex_valid[\"Itemname\"]).reset_index()\n",
    "df_ex_basket_valid = pd.concat([df_ex_basket_valid,df_ex_basket_valid_val]).fillna(0)\n",
    "\n",
    "\n",
    "df_fi_train_basket = pd.crosstab(df_fi_train[\"BillNo\"],df_fi_train[\"Itemname\"]).reset_index()\n",
    "\n",
    "df_fi_basket_test = pd.DataFrame(columns=df_fi_train_basket.columns)\n",
    "df_fi_basket_test_val = pd.crosstab(df_fi_test[\"BillNo\"],df_fi_test[\"Itemname\"]).reset_index()\n",
    "df_fi_basket_test = pd.concat([df_fi_basket_test,df_fi_basket_test_val]).fillna(0)\n",
    "\n",
    "print(df_ex_train_basket.shape)\n",
    "print(df_ex_basket_valid.shape)\n",
    "print(df_fi_train_basket.shape)\n",
    "print(df_fi_basket_test.shape)"
   ]
  },
  {
   "cell_type": "markdown",
   "id": "5c825b02",
   "metadata": {},
   "source": [
    "### 4. Implement, train and test prediction models"
   ]
  },
  {
   "cell_type": "markdown",
   "id": "a0459c71",
   "metadata": {},
   "source": [
    "Model-based Collaborative Filtering models are implemented below. The evaluation metrics of the models include the Accuracy, which indicates the proportion of instances where the ground truth matches the top recommendation in the recommendation list, Rank and Rank Rate, which represent the position of items in the recommendation list. Rank Rate tends towards 0 for higher recommendation scores and towards 1 for lower scores. Futhermore, the mean reciprocal rank (MRR), which is a common metric for Collaborative Filtering, is also checked (Hasan  & Roy 2019, p. 13). "
   ]
  },
  {
   "cell_type": "markdown",
   "id": "2c42efd0",
   "metadata": {},
   "source": [
    "### 4.1. Define class and function for building coreference filtering model and evaluation"
   ]
  },
  {
   "cell_type": "markdown",
   "id": "c3a27e34",
   "metadata": {},
   "source": [
    "The class for collaborative filtering is defined below. In this project, a CF model that predicts items to be put in the basket by customers is built. Therefore, user-based collaborative filtering is utilised. Item-based collaborative filtering predicts similar items from the basket (Singh et al. 2021, p. 857), which is not suitable for our task, so we will not use it in this project."
   ]
  },
  {
   "cell_type": "code",
   "execution_count": 23,
   "id": "e806b029",
   "metadata": {
    "ExecuteTime": {
     "end_time": "2024-04-09T11:27:44.397578Z",
     "start_time": "2024-04-09T11:27:44.384976Z"
    }
   },
   "outputs": [],
   "source": [
    "# Coreference Filtering model\n",
    "class CollaborativeFiltering:\n",
    "    def __init__(self, norm_flg=True):\n",
    "        self.norm_flg = norm_flg\n",
    "        \n",
    "    def fit(self, source_data, long_selling_items):\n",
    "        self.user_ratings = source_data.drop(columns=\"BillNo\").to_numpy()\n",
    "        self.items = pd.DataFrame(source_data.drop(columns=\"BillNo\").T.reset_index().loc[:,\"Itemname\"])\n",
    "        self.long_selling_index = list(self.items[self.items[\"Itemname\"].isin(long_selling_items)].index)\n",
    "        \n",
    "    def predict(self, target_data):\n",
    "        \n",
    "        target_rating = target_data.drop(columns=\"BillNo\").to_numpy()[0]\n",
    "        recommend_indices, predicted_ratings = self.recommend_items(target_rating)\n",
    "        recommend_long_selling = recommend_indices[np.isin(recommend_indices,self.long_selling_index)]\n",
    "\n",
    "        pred_long_selling = predicted_ratings[np.isin(recommend_indices,self.long_selling_index)]\n",
    "        df_pred = self.items.loc[recommend_long_selling,\"Itemname\"].reset_index()\n",
    "        df_pred[\"purchase_rate\"] = pred_long_selling\n",
    "        df_pred.drop(columns=\"index\",inplace=True)\n",
    "        \n",
    "        return df_pred\n",
    "        \n",
    "    def similarity(self, user1, user2):\n",
    "    \n",
    "        if self.norm_flg:\n",
    "            user1_z = self.zscore(user1)\n",
    "            user2_z = self.zscore(user2)\n",
    "\n",
    "            dot_product = np.dot(user1_z, user2_z)\n",
    "\n",
    "            magnitude_user1 = np.linalg.norm(user1_z)\n",
    "            magnitude_user2 = np.linalg.norm(user2_z)\n",
    "        else:\n",
    "            dot_product = np.dot(user1, user2)\n",
    "\n",
    "            magnitude_user1 = np.linalg.norm(user1)\n",
    "            magnitude_user2 = np.linalg.norm(user2)\n",
    "\n",
    "        similarity = dot_product / (magnitude_user1 * magnitude_user2)\n",
    "    \n",
    "        return similarity\n",
    "\n",
    "    def zscore(self, x, axis = None):\n",
    "        xmean = np.mean(x)\n",
    "        xstd  = np.std(x)\n",
    "        zscore = (x-xmean)/xstd\n",
    "        return zscore\n",
    "    \n",
    "    def predict_prob(self, purchase_flg, target_rating, similarities):\n",
    "\n",
    "        if len(similarities)==0:\n",
    "            weighted_purchase_prob=0\n",
    "        else:\n",
    "            weighted_purchase_prob = np.sum(purchase_flg * similarities) / np.sum(similarities)\n",
    "\n",
    "        return weighted_purchase_prob\n",
    "\n",
    "    def recommend_items(self, target_rating):\n",
    "\n",
    "        similarities = np.array([self.similarity(target_rating, user) for user in self.user_ratings])\n",
    "        similarities = np.where(similarities<0,0,similarities)\n",
    "        predicted_ratings = [0 if target_rating[item_index] == 1 else self.predict_prob(self.user_ratings[:, item_index], target_rating, similarities) for item_index in range(len(target_rating))]\n",
    "\n",
    "        sorted_indices = np.argsort(predicted_ratings)[::-1]\n",
    "        sorted_predicted_ratings = np.sort(predicted_ratings)[::-1]\n",
    "        return sorted_indices, sorted_predicted_ratings\n",
    "    \n",
    "    def ana_similarities(self, target_data):\n",
    "        target_rating = target_data.drop(columns=\"BillNo\").to_numpy()[0]\n",
    "        similarities = np.array([self.similarity(target_rating, user) for user in self.user_ratings])\n",
    "        similarities = np.where(similarities<0,0,similarities)\n",
    "        \n",
    "        return similarities\n",
    "    \n",
    "    "
   ]
  },
  {
   "cell_type": "code",
   "execution_count": 24,
   "id": "8d9a313c",
   "metadata": {
    "ExecuteTime": {
     "end_time": "2024-04-09T11:27:44.403807Z",
     "start_time": "2024-04-09T11:27:44.399586Z"
    }
   },
   "outputs": [],
   "source": [
    "def calc_rank(df_answer, df_rank, target_bill):\n",
    "    answer_item = df_answer[df_answer[\"BillNo\"]==target_bill][\"Itemname\"].values[0]\n",
    "    index_val = df_rank[df_rank[\"Itemname\"]==answer_item].index[0]\n",
    "    rank_val = index_val+1\n",
    "    \n",
    "    return rank_val\n"
   ]
  },
  {
   "cell_type": "code",
   "execution_count": 25,
   "id": "7a615dfa",
   "metadata": {
    "ExecuteTime": {
     "end_time": "2024-04-09T11:27:44.414099Z",
     "start_time": "2024-04-09T11:27:44.406813Z"
    }
   },
   "outputs": [],
   "source": [
    "# Mean Reciprocal Rank\n",
    "def mrr(rank_list):\n",
    "    reciprocal_ranks = [1 / rank for rank in rank_list]\n",
    "    return sum(reciprocal_ranks) / len(reciprocal_ranks)\n",
    "\n",
    "def accuracy(rank_list):\n",
    "    return sum([1 for i in rank_list if i==1])/len(rank_list)\n",
    "\n",
    "def mean_rank(rank_list):\n",
    "    return np.mean(rank_list)\n",
    "\n",
    "def mean_rank_rate(rank_list):\n",
    "    return np.mean(rank_list)/len(long_selling_items)\n",
    "\n",
    "def median_rank(rank_list):\n",
    "    return np.median(rank_list)\n",
    "\n",
    "def median_rank_rate(rank_list):\n",
    "    return np.median(rank_list)/len(long_selling_items)\n",
    "\n",
    "def show_metrics(rank_list):\n",
    "    \n",
    "    mrr_score = mrr(rank_list)\n",
    "    acc = accuracy(rank_list)\n",
    "    m_rank = mean_rank(rank_list)\n",
    "    m_rank_pct = mean_rank_rate (rank_list)\n",
    "    md_rank = median_rank (rank_list)\n",
    "    md_rank_pct = median_rank_rate(rank_list)\n",
    "    \n",
    "    return pd.DataFrame({\"mrr\":[mrr_score],\n",
    "                         \"accuracy\":[acc],\n",
    "                         \"mean_rank\":[m_rank],\n",
    "                         \"mean_rank_rate\":[m_rank_pct],\n",
    "                         \"median_rank\":[md_rank],\n",
    "                         \"median_rank_rate\":[md_rank_pct]\n",
    "                        })"
   ]
  },
  {
   "cell_type": "code",
   "execution_count": 26,
   "id": "49c938aa",
   "metadata": {
    "ExecuteTime": {
     "end_time": "2024-04-09T11:27:44.426252Z",
     "start_time": "2024-04-09T11:27:44.418107Z"
    }
   },
   "outputs": [],
   "source": [
    "def show_rank_hist(df):\n",
    "    df[\"rank_rate\"] = df[\"rank\"]/len(long_selling_items)\n",
    "    plt.figure(figsize=(6,2))\n",
    "    plt.hist(df[\"rank\"],bins=20,rwidth=0.8)\n",
    "    plt.axvline(x=df[\"rank\"].mean(),color='r',label=\"Mean Rank\")\n",
    "    plt.axvline(x=df[\"rank\"].median(),color='g',label=\"Median Rank\")\n",
    "    plt.xlim(0, len(long_selling_items))\n",
    "    plt.title(\"Histgram of Rank\")\n",
    "    plt.legend()\n",
    "    plt.show()\n",
    "\n",
    "\n",
    "    plt.figure(figsize=(6,2))\n",
    "    plt.hist(df[\"rank_rate\"],bins=20,rwidth=0.8)\n",
    "    plt.axvline(x=df[\"rank_rate\"].mean(),color='r',label=\"Mean Rank Rate\")\n",
    "    plt.axvline(x=df[\"rank_rate\"].median(),color='g',label=\"Median Rank Rate\")\n",
    "    plt.xlim(0, 1)\n",
    "    plt.title(\"Histgram of Rank Rate\")\n",
    "    plt.legend()\n",
    "    plt.show()"
   ]
  },
  {
   "cell_type": "markdown",
   "id": "5ea48f91",
   "metadata": {},
   "source": [
    "### 4.2. Create and evaluate candidate models"
   ]
  },
  {
   "cell_type": "code",
   "execution_count": 27,
   "id": "526e7fd9",
   "metadata": {
    "ExecuteTime": {
     "end_time": "2024-04-09T11:30:06.861887Z",
     "start_time": "2024-04-09T11:27:44.426252Z"
    }
   },
   "outputs": [],
   "source": [
    "cf_valid = CollaborativeFiltering(norm_flg=False)\n",
    "cf_valid.fit(df_ex_train_basket,long_selling_items)\n",
    "\n",
    "\n",
    "rank_list=[]\n",
    "num_item_list=[]\n",
    "\n",
    "for target_bill in df_ex_basket_valid[\"BillNo\"]:\n",
    "\n",
    "    df_rank = cf_valid.predict(df_ex_basket_valid[df_ex_basket_valid[\"BillNo\"]==target_bill])\n",
    "    \n",
    "    # Rank within the sorted ranking based on purchase probability (recommendation score)\n",
    "    rank_list.append(calc_rank(df_valid_answer, df_rank, target_bill))\n",
    "    \n",
    "    # number of items in a basket\n",
    "    num_item_list.append(len(df_ex_valid[df_ex_valid[\"BillNo\"]==target_bill])) \n",
    "    \n",
    "df_result_norm_false = pd.DataFrame({\n",
    "    \"rank\":rank_list,\n",
    "    \"num_items\":num_item_list\n",
    "})"
   ]
  },
  {
   "cell_type": "code",
   "execution_count": 28,
   "id": "b37ba773",
   "metadata": {
    "ExecuteTime": {
     "end_time": "2024-04-09T11:35:05.732560Z",
     "start_time": "2024-04-09T11:30:06.861887Z"
    }
   },
   "outputs": [],
   "source": [
    "cf_valid_norm = CollaborativeFiltering(norm_flg=True)\n",
    "cf_valid_norm.fit(df_ex_train_basket,long_selling_items)\n",
    "\n",
    "\n",
    "rank_list=[]\n",
    "num_item_list=[]\n",
    "\n",
    "for target_bill in df_ex_basket_valid[\"BillNo\"]:\n",
    "\n",
    "    df_rank = cf_valid_norm.predict(df_ex_basket_valid[df_ex_basket_valid[\"BillNo\"]==target_bill])\n",
    "    \n",
    "    # Rank within the sorted ranking based on purchase probability (recommendation score)\n",
    "    rank_list.append(calc_rank(df_valid_answer, df_rank, target_bill))\n",
    "    \n",
    "    # number of items in a basket\n",
    "    num_item_list.append(len(df_ex_valid[df_ex_valid[\"BillNo\"]==target_bill])) \n",
    "    \n",
    "df_result_norm_true = pd.DataFrame({\n",
    "    \"rank\":rank_list,\n",
    "    \"num_items\":num_item_list\n",
    "})"
   ]
  },
  {
   "cell_type": "code",
   "execution_count": 29,
   "id": "6baea994",
   "metadata": {
    "ExecuteTime": {
     "end_time": "2024-04-09T11:35:05.751372Z",
     "start_time": "2024-04-09T11:35:05.732560Z"
    },
    "scrolled": true
   },
   "outputs": [
    {
     "data": {
      "text/html": [
       "<div>\n",
       "<style scoped>\n",
       "    .dataframe tbody tr th:only-of-type {\n",
       "        vertical-align: middle;\n",
       "    }\n",
       "\n",
       "    .dataframe tbody tr th {\n",
       "        vertical-align: top;\n",
       "    }\n",
       "\n",
       "    .dataframe thead th {\n",
       "        text-align: right;\n",
       "    }\n",
       "</style>\n",
       "<table border=\"1\" class=\"dataframe\">\n",
       "  <thead>\n",
       "    <tr style=\"text-align: right;\">\n",
       "      <th></th>\n",
       "      <th>mrr</th>\n",
       "      <th>accuracy</th>\n",
       "      <th>mean_rank</th>\n",
       "      <th>mean_rank_rate</th>\n",
       "      <th>median_rank</th>\n",
       "      <th>median_rank_rate</th>\n",
       "    </tr>\n",
       "  </thead>\n",
       "  <tbody>\n",
       "    <tr>\n",
       "      <th>0</th>\n",
       "      <td>0.220783</td>\n",
       "      <td>0.116484</td>\n",
       "      <td>40.250549</td>\n",
       "      <td>0.188087</td>\n",
       "      <td>17.0</td>\n",
       "      <td>0.079439</td>\n",
       "    </tr>\n",
       "  </tbody>\n",
       "</table>\n",
       "</div>"
      ],
      "text/plain": [
       "        mrr  accuracy  mean_rank  mean_rank_rate  median_rank  \\\n",
       "0  0.220783  0.116484  40.250549        0.188087         17.0   \n",
       "\n",
       "   median_rank_rate  \n",
       "0          0.079439  "
      ]
     },
     "execution_count": 29,
     "metadata": {},
     "output_type": "execute_result"
    }
   ],
   "source": [
    "show_metrics(df_result_norm_false[\"rank\"].to_list())"
   ]
  },
  {
   "cell_type": "code",
   "execution_count": 30,
   "id": "92fc8ba8",
   "metadata": {
    "ExecuteTime": {
     "end_time": "2024-04-09T11:35:06.055015Z",
     "start_time": "2024-04-09T11:35:05.751372Z"
    }
   },
   "outputs": [
    {
     "data": {
      "image/png": "[encoded data removed]",
      "text/plain": [
       "<Figure size 600x200 with 1 Axes>"
      ]
     },
     "metadata": {},
     "output_type": "display_data"
    },
    {
     "data": {
      "image/png": "[encoded data removed]",
      "text/plain": [
       "<Figure size 600x200 with 1 Axes>"
      ]
     },
     "metadata": {},
     "output_type": "display_data"
    }
   ],
   "source": [
    "show_rank_hist(df_result_norm_false)"
   ]
  },
  {
   "cell_type": "code",
   "execution_count": 31,
   "id": "b1ff93e9",
   "metadata": {
    "ExecuteTime": {
     "end_time": "2024-04-09T11:35:06.066896Z",
     "start_time": "2024-04-09T11:35:06.055015Z"
    }
   },
   "outputs": [
    {
     "data": {
      "text/html": [
       "<div>\n",
       "<style scoped>\n",
       "    .dataframe tbody tr th:only-of-type {\n",
       "        vertical-align: middle;\n",
       "    }\n",
       "\n",
       "    .dataframe tbody tr th {\n",
       "        vertical-align: top;\n",
       "    }\n",
       "\n",
       "    .dataframe thead th {\n",
       "        text-align: right;\n",
       "    }\n",
       "</style>\n",
       "<table border=\"1\" class=\"dataframe\">\n",
       "  <thead>\n",
       "    <tr style=\"text-align: right;\">\n",
       "      <th></th>\n",
       "      <th>mrr</th>\n",
       "      <th>accuracy</th>\n",
       "      <th>mean_rank</th>\n",
       "      <th>mean_rank_rate</th>\n",
       "      <th>median_rank</th>\n",
       "      <th>median_rank_rate</th>\n",
       "    </tr>\n",
       "  </thead>\n",
       "  <tbody>\n",
       "    <tr>\n",
       "      <th>0</th>\n",
       "      <td>0.226403</td>\n",
       "      <td>0.120879</td>\n",
       "      <td>39.615385</td>\n",
       "      <td>0.185119</td>\n",
       "      <td>17.0</td>\n",
       "      <td>0.079439</td>\n",
       "    </tr>\n",
       "  </tbody>\n",
       "</table>\n",
       "</div>"
      ],
      "text/plain": [
       "        mrr  accuracy  mean_rank  mean_rank_rate  median_rank  \\\n",
       "0  0.226403  0.120879  39.615385        0.185119         17.0   \n",
       "\n",
       "   median_rank_rate  \n",
       "0          0.079439  "
      ]
     },
     "execution_count": 31,
     "metadata": {},
     "output_type": "execute_result"
    }
   ],
   "source": [
    "show_metrics(df_result_norm_true[\"rank\"].to_list())"
   ]
  },
  {
   "cell_type": "code",
   "execution_count": 32,
   "id": "13e746ca",
   "metadata": {
    "ExecuteTime": {
     "end_time": "2024-04-09T11:35:06.354606Z",
     "start_time": "2024-04-09T11:35:06.066896Z"
    }
   },
   "outputs": [
    {
     "data": {
      "image/png": "[encoded data removed]",
      "text/plain": [
       "<Figure size 600x200 with 1 Axes>"
      ]
     },
     "metadata": {},
     "output_type": "display_data"
    },
    {
     "data": {
      "image/png": "[encoded data removed]",
      "text/plain": [
       "<Figure size 600x200 with 1 Axes>"
      ]
     },
     "metadata": {},
     "output_type": "display_data"
    }
   ],
   "source": [
    "show_rank_hist(df_result_norm_true)"
   ]
  },
  {
   "cell_type": "markdown",
   "id": "c0084f89",
   "metadata": {},
   "source": [
    "While there are no significant differences in rank-related metrics such as Median Rank Rate or Mean Rank Rate, the EM score is slightly better when normalisation is applied. Therefore, normalisation is used for the final model."
   ]
  },
  {
   "cell_type": "markdown",
   "id": "32d21bfb",
   "metadata": {},
   "source": [
    "### 4.3. Create and evaluate the final models"
   ]
  },
  {
   "cell_type": "code",
   "execution_count": 33,
   "id": "65d480a2",
   "metadata": {
    "ExecuteTime": {
     "end_time": "2024-04-09T11:43:27.862273Z",
     "start_time": "2024-04-09T11:37:58.477046Z"
    }
   },
   "outputs": [],
   "source": [
    "cf_final = CollaborativeFiltering(norm_flg=True)\n",
    "cf_final.fit(df_fi_train_basket,long_selling_items)\n",
    "\n",
    "billno_list=[]\n",
    "rank_list=[]\n",
    "num_item_list=[]\n",
    "\n",
    "for target_bill in df_fi_basket_test[\"BillNo\"]:\n",
    "\n",
    "    df_rank = cf_final.predict(df_fi_basket_test[df_fi_basket_test[\"BillNo\"]==target_bill])\n",
    "    \n",
    "    billno_list.append(target_bill)\n",
    "    \n",
    "    # Rank within the sorted ranking based on purchase probability (recommendation score)\n",
    "    rank_list.append(calc_rank(df_test_answer, df_rank, target_bill))\n",
    "    \n",
    "    # number of items in a basket\n",
    "    num_item_list.append(len(df_fi_test[df_fi_test[\"BillNo\"]==target_bill])) \n",
    "    \n",
    "df_result_final = pd.DataFrame({\n",
    "    \"BillNo\":billno_list,\n",
    "    \"rank\":rank_list,\n",
    "    \"num_items\":num_item_list\n",
    "})"
   ]
  },
  {
   "cell_type": "code",
   "execution_count": 34,
   "id": "ced4c477",
   "metadata": {
    "ExecuteTime": {
     "end_time": "2024-04-09T11:43:27.875975Z",
     "start_time": "2024-04-09T11:43:27.863281Z"
    }
   },
   "outputs": [
    {
     "data": {
      "text/html": [
       "<div>\n",
       "<style scoped>\n",
       "    .dataframe tbody tr th:only-of-type {\n",
       "        vertical-align: middle;\n",
       "    }\n",
       "\n",
       "    .dataframe tbody tr th {\n",
       "        vertical-align: top;\n",
       "    }\n",
       "\n",
       "    .dataframe thead th {\n",
       "        text-align: right;\n",
       "    }\n",
       "</style>\n",
       "<table border=\"1\" class=\"dataframe\">\n",
       "  <thead>\n",
       "    <tr style=\"text-align: right;\">\n",
       "      <th></th>\n",
       "      <th>mrr</th>\n",
       "      <th>accuracy</th>\n",
       "      <th>mean_rank</th>\n",
       "      <th>mean_rank_rate</th>\n",
       "      <th>median_rank</th>\n",
       "      <th>median_rank_rate</th>\n",
       "    </tr>\n",
       "  </thead>\n",
       "  <tbody>\n",
       "    <tr>\n",
       "      <th>0</th>\n",
       "      <td>0.216015</td>\n",
       "      <td>0.126506</td>\n",
       "      <td>39.899598</td>\n",
       "      <td>0.186447</td>\n",
       "      <td>19.0</td>\n",
       "      <td>0.088785</td>\n",
       "    </tr>\n",
       "  </tbody>\n",
       "</table>\n",
       "</div>"
      ],
      "text/plain": [
       "        mrr  accuracy  mean_rank  mean_rank_rate  median_rank  \\\n",
       "0  0.216015  0.126506  39.899598        0.186447         19.0   \n",
       "\n",
       "   median_rank_rate  \n",
       "0          0.088785  "
      ]
     },
     "execution_count": 34,
     "metadata": {},
     "output_type": "execute_result"
    }
   ],
   "source": [
    "show_metrics(df_result_final[\"rank\"].to_list())"
   ]
  },
  {
   "cell_type": "code",
   "execution_count": 35,
   "id": "758e358d",
   "metadata": {
    "ExecuteTime": {
     "end_time": "2024-04-09T11:43:28.255842Z",
     "start_time": "2024-04-09T11:43:27.877982Z"
    }
   },
   "outputs": [
    {
     "data": {
      "image/png": "[encoded data removed]",
      "text/plain": [
       "<Figure size 600x200 with 1 Axes>"
      ]
     },
     "metadata": {},
     "output_type": "display_data"
    },
    {
     "data": {
      "image/png": "[encoded data removed]",
      "text/plain": [
       "<Figure size 600x200 with 1 Axes>"
      ]
     },
     "metadata": {},
     "output_type": "display_data"
    }
   ],
   "source": [
    "show_rank_hist(df_result_final)"
   ]
  },
  {
   "cell_type": "markdown",
   "id": "930b7aab",
   "metadata": {},
   "source": [
    "### 4.4 Check specific examples"
   ]
  },
  {
   "cell_type": "markdown",
   "id": "e817ccbf",
   "metadata": {},
   "source": [
    "Comparing five samples where user bought reccomendation with five samples where user bought lower reccomendation"
   ]
  },
  {
   "cell_type": "code",
   "execution_count": 36,
   "id": "efc7572b",
   "metadata": {
    "ExecuteTime": {
     "end_time": "2024-04-09T11:43:31.227977Z",
     "start_time": "2024-04-09T11:43:28.258854Z"
    }
   },
   "outputs": [],
   "source": [
    "# examples where user bought top item (more than 1/214) in the recommendation list\n",
    "num_sim_users=20\n",
    "\n",
    "billno_list=[]\n",
    "prob_sim_answer_list = []\n",
    "\n",
    "df_good_sample = df_result_final[df_result_final[\"rank\"]==1].sample(5,random_state=random_state_val)\n",
    "df_good_example = pd.DataFrame(columns=[\"BillNo\",\"top_similarity\",\"probability_similar_user_buy_answer_item\",\"answer_item\"])\n",
    "\n",
    "for target_bill in df_good_sample[\"BillNo\"]:\n",
    "\n",
    "\n",
    "    answer_item = df_test_answer[df_test_answer[\"BillNo\"]==target_bill][\"Itemname\"].values[0]\n",
    "\n",
    "    sim = cf_final.ana_similarities(df_fi_basket_test[df_fi_basket_test[\"BillNo\"]==target_bill])\n",
    "    df_sim = pd.DataFrame(sim)\n",
    "    similar_billno = df_fi_train_basket.loc[df_sim[0].nlargest(num_sim_users).index][\"BillNo\"].to_list()\n",
    "    df_sim_users = df_fi_train[df_fi_train[\"BillNo\"].isin(similar_billno)]\n",
    "    top_similarity_list = df_sim[0].nlargest(num_sim_users).to_list()\n",
    "\n",
    "    prob_sim_answer = len(df_sim_users[df_sim_users[\"Itemname\"]==answer_item])/len(similar_billno)\n",
    "\n",
    "    df_good_example_tmp = pd.DataFrame({\n",
    "        \"BillNo\":[target_bill]*len(top_similarity_list),\n",
    "        \"top_similarity\":top_similarity_list,\n",
    "        \"probability_similar_user_buy_answer_item\":[prob_sim_answer]*len(top_similarity_list),\n",
    "        \"answer_item\":[answer_item]*len(top_similarity_list)\n",
    "    })\n",
    "    df_good_example = pd.concat([df_good_example, df_good_example_tmp])"
   ]
  },
  {
   "cell_type": "code",
   "execution_count": 37,
   "id": "15ee5ba0",
   "metadata": {
    "ExecuteTime": {
     "end_time": "2024-04-09T11:43:31.394749Z",
     "start_time": "2024-04-09T11:43:31.229986Z"
    }
   },
   "outputs": [
    {
     "data": {
      "text/html": [
       "<div>\n",
       "<style scoped>\n",
       "    .dataframe tbody tr th:only-of-type {\n",
       "        vertical-align: middle;\n",
       "    }\n",
       "\n",
       "    .dataframe tbody tr th {\n",
       "        vertical-align: top;\n",
       "    }\n",
       "\n",
       "    .dataframe thead th {\n",
       "        text-align: right;\n",
       "    }\n",
       "</style>\n",
       "<table border=\"1\" class=\"dataframe\">\n",
       "  <thead>\n",
       "    <tr style=\"text-align: right;\">\n",
       "      <th></th>\n",
       "      <th>BillNo</th>\n",
       "      <th>answer_item</th>\n",
       "      <th>probability_similar_user_buy_answer_item</th>\n",
       "      <th>top_similarity</th>\n",
       "    </tr>\n",
       "  </thead>\n",
       "  <tbody>\n",
       "    <tr>\n",
       "      <th>0</th>\n",
       "      <td>545082</td>\n",
       "      <td>SET OF 3 CAKE TINS PANTRY DESIGN</td>\n",
       "      <td>0.15</td>\n",
       "      <td>0.164941</td>\n",
       "    </tr>\n",
       "    <tr>\n",
       "      <th>1</th>\n",
       "      <td>545526</td>\n",
       "      <td>REGENCY CAKESTAND 3 TIER</td>\n",
       "      <td>0.45</td>\n",
       "      <td>0.284655</td>\n",
       "    </tr>\n",
       "    <tr>\n",
       "      <th>2</th>\n",
       "      <td>545705</td>\n",
       "      <td>ALARM CLOCK BAKELIKE GREEN</td>\n",
       "      <td>0.10</td>\n",
       "      <td>0.255938</td>\n",
       "    </tr>\n",
       "    <tr>\n",
       "      <th>3</th>\n",
       "      <td>545709</td>\n",
       "      <td>ROUND SNACK BOXES SET OF4 WOODLAND</td>\n",
       "      <td>0.25</td>\n",
       "      <td>0.234437</td>\n",
       "    </tr>\n",
       "    <tr>\n",
       "      <th>4</th>\n",
       "      <td>546031</td>\n",
       "      <td>ALARM CLOCK BAKELIKE GREEN</td>\n",
       "      <td>0.15</td>\n",
       "      <td>0.262328</td>\n",
       "    </tr>\n",
       "  </tbody>\n",
       "</table>\n",
       "</div>"
      ],
      "text/plain": [
       "   BillNo                         answer_item  \\\n",
       "0  545082    SET OF 3 CAKE TINS PANTRY DESIGN   \n",
       "1  545526            REGENCY CAKESTAND 3 TIER   \n",
       "2  545705          ALARM CLOCK BAKELIKE GREEN   \n",
       "3  545709  ROUND SNACK BOXES SET OF4 WOODLAND   \n",
       "4  546031          ALARM CLOCK BAKELIKE GREEN   \n",
       "\n",
       "   probability_similar_user_buy_answer_item  top_similarity  \n",
       "0                                      0.15        0.164941  \n",
       "1                                      0.45        0.284655  \n",
       "2                                      0.10        0.255938  \n",
       "3                                      0.25        0.234437  \n",
       "4                                      0.15        0.262328  "
      ]
     },
     "metadata": {},
     "output_type": "display_data"
    },
    {
     "data": {
      "image/png": "[encoded data removed]",
      "text/plain": [
       "<Figure size 640x480 with 1 Axes>"
      ]
     },
     "metadata": {},
     "output_type": "display_data"
    }
   ],
   "source": [
    "display(df_good_example.groupby([\"BillNo\",\n",
    "                                 \"answer_item\",\n",
    "                                 \"probability_similar_user_buy_answer_item\"])[\"top_similarity\"]\n",
    "        .median().reset_index())\n",
    "\n",
    "sns.boxplot(x=\"BillNo\", y=\"top_similarity\", data=df_good_example)\n",
    "plt.title(\"Top 20 Similarity of Each User Buying Recommendation\")\n",
    "plt.show()"
   ]
  },
  {
   "cell_type": "code",
   "execution_count": 38,
   "id": "42df35cc",
   "metadata": {
    "ExecuteTime": {
     "end_time": "2024-04-09T11:43:34.219383Z",
     "start_time": "2024-04-09T11:43:31.397875Z"
    }
   },
   "outputs": [],
   "source": [
    "# examples where user bought lower items (more than 100/214) in the recommendation list\n",
    "num_sim_users=20\n",
    "\n",
    "billno_list=[]\n",
    "prob_sim_answer_list = []\n",
    "\n",
    "df_bad_sample = df_result_final[df_result_final[\"rank\"]>100].sample(5,random_state=random_state_val)\n",
    "df_bad_example = pd.DataFrame(columns=[\"BillNo\",\"top_similarity\",\"probability_similar_user_buy_answer_item\",\"answer_item\"])\n",
    "\n",
    "# for i,target_bill in enumerate(df_bad_sample[\"BillNo\"]):\n",
    "for target_bill in df_bad_sample[\"BillNo\"]:\n",
    "\n",
    "\n",
    "    answer_item = df_test_answer[df_test_answer[\"BillNo\"]==target_bill][\"Itemname\"].values[0]\n",
    "\n",
    "    sim = cf_final.ana_similarities(df_fi_basket_test[df_fi_basket_test[\"BillNo\"]==target_bill])\n",
    "    df_sim = pd.DataFrame(sim)\n",
    "    similar_billno = df_fi_train_basket.loc[df_sim[0].nlargest(num_sim_users).index][\"BillNo\"].to_list()\n",
    "    df_sim_users = df_fi_train[df_fi_train[\"BillNo\"].isin(similar_billno)]\n",
    "    top_similarity_list = df_sim[0].nlargest(num_sim_users).to_list()\n",
    "\n",
    "    prob_sim_answer = len(df_sim_users[df_sim_users[\"Itemname\"]==answer_item])/len(similar_billno)\n",
    "\n",
    "    df_bad_example_tmp = pd.DataFrame({\n",
    "        \"BillNo\":[target_bill]*len(top_similarity_list),\n",
    "        \"top_similarity\":top_similarity_list,\n",
    "        \"probability_similar_user_buy_answer_item\":[prob_sim_answer]*len(top_similarity_list),\n",
    "        \"answer_item\":[answer_item]*len(top_similarity_list)\n",
    "    })\n",
    "    df_bad_example = pd.concat([df_bad_example, df_bad_example_tmp])"
   ]
  },
  {
   "cell_type": "code",
   "execution_count": 39,
   "id": "ef205db9",
   "metadata": {
    "ExecuteTime": {
     "end_time": "2024-04-09T11:43:34.365730Z",
     "start_time": "2024-04-09T11:43:34.222396Z"
    }
   },
   "outputs": [
    {
     "data": {
      "text/html": [
       "<div>\n",
       "<style scoped>\n",
       "    .dataframe tbody tr th:only-of-type {\n",
       "        vertical-align: middle;\n",
       "    }\n",
       "\n",
       "    .dataframe tbody tr th {\n",
       "        vertical-align: top;\n",
       "    }\n",
       "\n",
       "    .dataframe thead th {\n",
       "        text-align: right;\n",
       "    }\n",
       "</style>\n",
       "<table border=\"1\" class=\"dataframe\">\n",
       "  <thead>\n",
       "    <tr style=\"text-align: right;\">\n",
       "      <th></th>\n",
       "      <th>BillNo</th>\n",
       "      <th>answer_item</th>\n",
       "      <th>probability_similar_user_buy_answer_item</th>\n",
       "      <th>top_similarity</th>\n",
       "    </tr>\n",
       "  </thead>\n",
       "  <tbody>\n",
       "    <tr>\n",
       "      <th>0</th>\n",
       "      <td>544912</td>\n",
       "      <td>PAPER BUNTING WHITE LACE</td>\n",
       "      <td>0.00</td>\n",
       "      <td>0.207602</td>\n",
       "    </tr>\n",
       "    <tr>\n",
       "      <th>1</th>\n",
       "      <td>545004</td>\n",
       "      <td>HOME SWEET HOME METAL SIGN</td>\n",
       "      <td>0.00</td>\n",
       "      <td>0.240573</td>\n",
       "    </tr>\n",
       "    <tr>\n",
       "      <th>2</th>\n",
       "      <td>545052</td>\n",
       "      <td>METAL SIGN TAKE IT OR LEAVE IT</td>\n",
       "      <td>0.00</td>\n",
       "      <td>0.287757</td>\n",
       "    </tr>\n",
       "    <tr>\n",
       "      <th>3</th>\n",
       "      <td>545083</td>\n",
       "      <td>WOODEN UNION JACK BUNTING</td>\n",
       "      <td>0.00</td>\n",
       "      <td>0.332539</td>\n",
       "    </tr>\n",
       "    <tr>\n",
       "      <th>4</th>\n",
       "      <td>545533</td>\n",
       "      <td>SET 10 LIGHTS NIGHT OWL</td>\n",
       "      <td>0.05</td>\n",
       "      <td>0.207880</td>\n",
       "    </tr>\n",
       "  </tbody>\n",
       "</table>\n",
       "</div>"
      ],
      "text/plain": [
       "   BillNo                     answer_item  \\\n",
       "0  544912        PAPER BUNTING WHITE LACE   \n",
       "1  545004      HOME SWEET HOME METAL SIGN   \n",
       "2  545052  METAL SIGN TAKE IT OR LEAVE IT   \n",
       "3  545083       WOODEN UNION JACK BUNTING   \n",
       "4  545533         SET 10 LIGHTS NIGHT OWL   \n",
       "\n",
       "   probability_similar_user_buy_answer_item  top_similarity  \n",
       "0                                      0.00        0.207602  \n",
       "1                                      0.00        0.240573  \n",
       "2                                      0.00        0.287757  \n",
       "3                                      0.00        0.332539  \n",
       "4                                      0.05        0.207880  "
      ]
     },
     "metadata": {},
     "output_type": "display_data"
    },
    {
     "data": {
      "image/png": "[encoded data removed]",
      "text/plain": [
       "<Figure size 640x480 with 1 Axes>"
      ]
     },
     "metadata": {},
     "output_type": "display_data"
    }
   ],
   "source": [
    "display(df_bad_example.groupby([\"BillNo\",\n",
    "                                \"answer_item\",\n",
    "                                \"probability_similar_user_buy_answer_item\"])[\"top_similarity\"]\n",
    "        .median().reset_index())\n",
    "\n",
    "sns.boxplot(x=\"BillNo\", y=\"top_similarity\", data=df_bad_example)\n",
    "plt.title(\"Top 20 Similarity of Each User Buying Recommendation\")\n",
    "plt.show()"
   ]
  },
  {
   "cell_type": "markdown",
   "id": "0507ff7c",
   "metadata": {},
   "source": [
    "Compared to example where user bought recommendation or not, The case where users purchased significantly different items show outliers in similarity scores. However, the actual values themselves do not differ significantly. Additionally, according to \"probability_similar_user_buy_answer_item\" in the both of the example tables, it can be observed that the target user purchased items that similar users did not purchase, making predictions difficult.\n",
    "\n",
    "The presence of outliers in similarity scores can be attributed to users who tend to have fewer items in their baskets, as well as the existence of users with extremely high similarity scores. This matter will be confirmed in section 4.5.\n"
   ]
  },
  {
   "cell_type": "code",
   "execution_count": 40,
   "id": "54f63ea2",
   "metadata": {
    "ExecuteTime": {
     "end_time": "2024-04-09T11:43:34.379533Z",
     "start_time": "2024-04-09T11:43:34.367838Z"
    }
   },
   "outputs": [
    {
     "data": {
      "text/html": [
       "<div>\n",
       "<style scoped>\n",
       "    .dataframe tbody tr th:only-of-type {\n",
       "        vertical-align: middle;\n",
       "    }\n",
       "\n",
       "    .dataframe tbody tr th {\n",
       "        vertical-align: top;\n",
       "    }\n",
       "\n",
       "    .dataframe thead th {\n",
       "        text-align: right;\n",
       "    }\n",
       "</style>\n",
       "<table border=\"1\" class=\"dataframe\">\n",
       "  <thead>\n",
       "    <tr style=\"text-align: right;\">\n",
       "      <th></th>\n",
       "      <th>Itemname</th>\n",
       "      <th>count</th>\n",
       "    </tr>\n",
       "  </thead>\n",
       "  <tbody>\n",
       "    <tr>\n",
       "      <th>0</th>\n",
       "      <td>WHITE HANGING HEART T-LIGHT HOLDER</td>\n",
       "      <td>266</td>\n",
       "    </tr>\n",
       "    <tr>\n",
       "      <th>1</th>\n",
       "      <td>SET OF 3 CAKE TINS PANTRY DESIGN</td>\n",
       "      <td>228</td>\n",
       "    </tr>\n",
       "    <tr>\n",
       "      <th>2</th>\n",
       "      <td>REGENCY CAKESTAND 3 TIER</td>\n",
       "      <td>222</td>\n",
       "    </tr>\n",
       "    <tr>\n",
       "      <th>3</th>\n",
       "      <td>HEART OF WICKER LARGE</td>\n",
       "      <td>193</td>\n",
       "    </tr>\n",
       "    <tr>\n",
       "      <th>4</th>\n",
       "      <td>REX CASH+CARRY JUMBO SHOPPER</td>\n",
       "      <td>175</td>\n",
       "    </tr>\n",
       "  </tbody>\n",
       "</table>\n",
       "</div>"
      ],
      "text/plain": [
       "                             Itemname  count\n",
       "0  WHITE HANGING HEART T-LIGHT HOLDER    266\n",
       "1    SET OF 3 CAKE TINS PANTRY DESIGN    228\n",
       "2            REGENCY CAKESTAND 3 TIER    222\n",
       "3               HEART OF WICKER LARGE    193\n",
       "4        REX CASH+CARRY JUMBO SHOPPER    175"
      ]
     },
     "execution_count": 40,
     "metadata": {},
     "output_type": "execute_result"
    }
   ],
   "source": [
    "# Display the top 5 items with the highest frequency in the training dataset.\n",
    "df_train_prep[\"Itemname\"].value_counts().reset_index().head(5)"
   ]
  },
  {
   "cell_type": "markdown",
   "id": "c9dcef89",
   "metadata": {
    "ExecuteTime": {
     "end_time": "2024-04-04T11:56:23.689621Z",
     "start_time": "2024-04-04T11:56:23.686416Z"
    }
   },
   "source": [
    "The above table displays the top 5 items with the highest purchase frequency in the training data. Some items in top 5 items are included in examples where user bought recommendation. Since these items have a high purchase frequency, they are  easier to predict than low frequency items."
   ]
  },
  {
   "cell_type": "markdown",
   "id": "3dfd7f34",
   "metadata": {},
   "source": [
    "### 4.5. Analyse factors leading to significant deviations from predictions"
   ]
  },
  {
   "cell_type": "code",
   "execution_count": 41,
   "id": "5355ce55",
   "metadata": {
    "ExecuteTime": {
     "end_time": "2024-04-09T11:48:24.052640Z",
     "start_time": "2024-04-09T11:43:34.381234Z"
    }
   },
   "outputs": [],
   "source": [
    "billno_list=[]\n",
    "mean_similarity_list = []\n",
    "prob_sim_answer_list = []\n",
    "\n",
    "num_sim_users = 20\n",
    "\n",
    "for target_bill in df_fi_basket_test[\"BillNo\"]:\n",
    "\n",
    "    answer_item = df_test_answer[df_test_answer[\"BillNo\"]==target_bill][\"Itemname\"].values[0]\n",
    "\n",
    "    sim = cf_final.ana_similarities(df_fi_basket_test[df_fi_basket_test[\"BillNo\"]==target_bill])\n",
    "    df_sim = pd.DataFrame(sim)\n",
    "    similar_billno = df_fi_train_basket.loc[df_sim[0].nlargest(num_sim_users).index][\"BillNo\"].to_list()\n",
    "    df_sim_users = df_fi_train[df_fi_train[\"BillNo\"].isin(similar_billno)]\n",
    "\n",
    "    billno_list.append(target_bill)\n",
    "    \n",
    "    mean_top_similarity = np.mean(df_sim[0].nlargest(num_sim_users))\n",
    "    mean_similarity_list.append(mean_top_similarity)\n",
    "\n",
    "    # probability of simlar user who have answer item in their basket\n",
    "    prob_sim_answer = len(df_sim_users[df_sim_users[\"Itemname\"]==answer_item])/len(similar_billno)\n",
    "    prob_sim_answer_list.append(prob_sim_answer)\n",
    "    \n",
    "\n",
    "df_result_final_ana = pd.DataFrame({\n",
    "    \"BillNo\":billno_list,\n",
    "    \"mean_top_similarity\":mean_similarity_list,\n",
    "    \"prob_sim_answer\":prob_sim_answer_list\n",
    "})"
   ]
  },
  {
   "cell_type": "code",
   "execution_count": 42,
   "id": "24912df9",
   "metadata": {
    "ExecuteTime": {
     "end_time": "2024-04-09T11:48:24.065903Z",
     "start_time": "2024-04-09T11:48:24.055721Z"
    }
   },
   "outputs": [],
   "source": [
    "df_result_final[\"rank_rate\"] = df_result_final[\"rank\"]/len(long_selling_items)\n",
    "df_result_final_ana = df_result_final_ana.merge(df_result_final,how=\"inner\",on=\"BillNo\")\n",
    "\n",
    "df_ana_mean_sim = df_result_final_ana.groupby([\"rank_rate\"])[\"mean_top_similarity\"].agg([\"count\",\"mean\"])\n",
    "df_ana_answer_prob = df_result_final_ana.groupby([\"rank_rate\"])[\"prob_sim_answer\"].agg([\"count\",\"mean\"])"
   ]
  },
  {
   "cell_type": "code",
   "execution_count": 43,
   "id": "c5d726c1",
   "metadata": {
    "ExecuteTime": {
     "end_time": "2024-04-09T11:48:24.510558Z",
     "start_time": "2024-04-09T11:48:24.066909Z"
    }
   },
   "outputs": [
    {
     "data": {
      "image/png": "[encoded data removed]",
      "text/plain": [
       "<Figure size 640x480 with 2 Axes>"
      ]
     },
     "metadata": {},
     "output_type": "display_data"
    },
    {
     "data": {
      "image/png": "[encoded data removed]",
      "text/plain": [
       "<Figure size 640x480 with 2 Axes>"
      ]
     },
     "metadata": {},
     "output_type": "display_data"
    }
   ],
   "source": [
    "def summary_ana_rank(df, step):\n",
    "    df[\"rank_rate_bin\"] = pd.cut(df[\"rank_rate\"], bins=np.arange(0,1+step,step))\n",
    "    return_df = df.groupby(\"rank_rate_bin\")[\"mean_top_similarity\"].agg([\"count\",\"mean\"])\n",
    "    return_df.rename(columns={\"mean\":\"mean_top_similarity\"},inplace=True)\n",
    "    return_df = return_df.merge(df.groupby(\"rank_rate_bin\")[\"prob_sim_answer\"].mean(),how=\"inner\",on=\"rank_rate_bin\")\n",
    "    return_df = return_df.reset_index()\n",
    "    return_df[\"rank_rate_bin\"] = return_df[\"rank_rate_bin\"].apply(lambda x: clean_cut(x)).astype(float)\n",
    "    return return_df\n",
    "\n",
    "def clean_cut(x):\n",
    "    return re.split(\",\",str(x))[1].replace(\")\",\"\").replace(\"]\",\"\").replace(\" \",\"\")\n",
    "\n",
    "def show_summary_rank_graph(df, target_variable, title_name, y_label, color, width=0.04):\n",
    "    fig, ax1 = plt.subplots()\n",
    "    ax1.bar(df[\"rank_rate_bin\"], df[\"count\"], alpha=0.8, width=width , label=\"Count\")\n",
    "    ax1.set_xlabel(\"Rank Rate\")\n",
    "    ax1.set_ylabel(\"Count\", color=\"b\")\n",
    "    ax1.tick_params(\"y\", colors=\"b\")\n",
    "\n",
    "    ax2 = ax1.twinx()\n",
    "    ax2.plot(df[\"rank_rate_bin\"], df[target_variable], color=color, label=\"Mean\")\n",
    "    ax2.set_ylabel(y_label, color=color)\n",
    "    ax2.tick_params(\"y\", colors=color)\n",
    "\n",
    "    plt.title(title_name)\n",
    "    plt.show()\n",
    "\n",
    "df_summary_rank = summary_ana_rank(df_result_final_ana,0.05)\n",
    "show_summary_rank_graph(df_summary_rank, \"mean_top_similarity\", \"Mean Top Similarity\", \"Mean Top Similarity\", \"r\")\n",
    "show_summary_rank_graph(df_summary_rank, \"prob_sim_answer\", \"Probability that Similar Users have Ground Truth Item\", \"Probability that Similar Users have Ground Truth Item\", \"g\")"
   ]
  },
  {
   "cell_type": "markdown",
   "id": "400f63ef",
   "metadata": {},
   "source": [
    "The first graph shows the mean of the top 20 similarity scores for each Rank Rate band, while the second graph displays the proportion where top 20 similar users purchase the item among each Rank Rate band.\n",
    "\n",
    "The first graph indicates that the similarity score remains high even as the Rank Rate increases. On the other hand, the second graph that the proportion of similar users who purchase the answer item decreases as the Rank Rate increases. As well as the above specific examples in section 4.4, it can be confirmed statistically that similar users with higher Rank Rates tend not to purchase the ground truth item. Therefore, it is difficult to recommend ground truth item to target user when items in a basket is few. "
   ]
  },
  {
   "cell_type": "code",
   "execution_count": 44,
   "id": "e77e4ef5",
   "metadata": {
    "ExecuteTime": {
     "end_time": "2024-04-09T11:48:24.871959Z",
     "start_time": "2024-04-09T11:48:24.514655Z"
    }
   },
   "outputs": [
    {
     "data": {
      "image/png": "[encoded data removed]",
      "text/plain": [
       "<Figure size 640x480 with 1 Axes>"
      ]
     },
     "metadata": {},
     "output_type": "display_data"
    },
    {
     "data": {
      "image/png": "[encoded data removed]",
      "text/plain": [
       "<Figure size 640x480 with 2 Axes>"
      ]
     },
     "metadata": {},
     "output_type": "display_data"
    }
   ],
   "source": [
    "plt.scatter(df_result_final[\"rank_rate\"], df_result_final[\"num_items\"])\n",
    "plt.ylabel(\"Number of Items in a Basket\")\n",
    "plt.xlabel(\"Rank Rate\")\n",
    "plt.title(\"Scatter Plot of Rank Rate vs Number of Items in a Basket\")\n",
    "\n",
    "step=0.1\n",
    "df_num_items_per_rank = df_result_final.copy()\n",
    "df_num_items_per_rank[\"rank_rate_bin\"] = pd.cut(df_num_items_per_rank[\"rank_rate\"], bins=np.arange(0,1+step,step))\n",
    "df_num_items_per_rank = df_num_items_per_rank.groupby(\"rank_rate_bin\")[\"num_items\"].agg([\"count\",\"mean\"])\n",
    "df_num_items_per_rank.rename(columns={\"mean\":\"mean_num_items\"},inplace=True)\n",
    "df_num_items_per_rank = df_num_items_per_rank.reset_index()\n",
    "df_num_items_per_rank[\"rank_rate_bin\"] = df_num_items_per_rank[\"rank_rate_bin\"].apply(lambda x: clean_cut(x)).astype(float)\n",
    "\n",
    "show_summary_rank_graph(df_num_items_per_rank,\"mean_num_items\",\"Number of items in a basket per Rank Rate band\", \"Number of Items in a Basket\", \"r\",0.08)"
   ]
  },
  {
   "cell_type": "markdown",
   "id": "6bdcbbf1",
   "metadata": {},
   "source": [
    "the factors contributing to missing the ground truth items were analysed based on the number of items in the basket from which predictions were made. The first graph shows a scatter plot of Rank Rate and the number of items in a basket, while The second graph aggregates the Rank Rate into bins and displays the mean number of items in a basket for each Rank Rate.\n",
    "\n",
    "it can be observed that the number of items in the basket decreases as the Rank Rate increases. With fewer items in a basket, there might be less information available for prediction, leading to lower accuracy."
   ]
  },
  {
   "cell_type": "markdown",
   "id": "330703fd",
   "metadata": {},
   "source": [
    "### 4.6. Summary of the final model"
   ]
  },
  {
   "cell_type": "markdown",
   "id": "97031505",
   "metadata": {},
   "source": [
    "While the EM score of 12.7% is not high, the model demonstrates a certain level of accuracy. Two tendencies for missing ground truth are observed:\n",
    "\n",
    "- When similar users to the target user do not purchase the predicted items.\n",
    "- When the basket contains few items.\n",
    "\n",
    "The former could potentially improve with a larger dataset, while the latter could see improved accuracy by recommending to customers whose baskets already contain certain items."
   ]
  },
  {
   "cell_type": "markdown",
   "id": "9d3a91b4",
   "metadata": {},
   "source": [
    "## B. References"
   ]
  },
  {
   "cell_type": "markdown",
   "id": "8b4696d9",
   "metadata": {},
   "source": [
    "Hasan, M & Roy, F 2019, ‘An item–item collaborative filtering recommender system using trust and genre to address the cold-start problem’, <i>Big Data and Cognitive Computing</i>, vol. 3, article no: 3."
   ]
  },
  {
   "cell_type": "markdown",
   "id": "d2a4dfd5",
   "metadata": {},
   "source": [
    "Singh, PK, Ahmed, R, Rajput, IS & Choudhury, P 2021, ‘A comparative study on prediction approaches of item-based collaborative filtering in neighborhood-based recommendations’, <i>Wireless Personal Communications</i>, vol. 121, no. 1, pp. 857–877."
   ]
  }
 ],
 "metadata": {
  "kernelspec": {
   "display_name": "Python 3 (ipykernel)",
   "language": "python",
   "name": "python3"
  },
  "language_info": {
   "codemirror_mode": {
    "name": "ipython",
    "version": 3
   },
   "file_extension": ".py",
   "mimetype": "text/x-python",
   "name": "python",
   "nbconvert_exporter": "python",
   "pygments_lexer": "ipython3",
   "version": "3.11.5"
  }
 },
 "nbformat": 4,
 "nbformat_minor": 5
}
